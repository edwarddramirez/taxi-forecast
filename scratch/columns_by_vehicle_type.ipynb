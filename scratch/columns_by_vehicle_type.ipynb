{
 "cells": [
  {
   "cell_type": "markdown",
   "metadata": {},
   "source": [
    "### load packages"
   ]
  },
  {
   "cell_type": "code",
   "execution_count": 1,
   "metadata": {},
   "outputs": [],
   "source": [
    "import sys\n",
    "sys.path.append('..') # add parent directory to path\n",
    "\n",
    "import numpy as np \n",
    "import pandas as pd\n",
    "from utils import processing as pr"
   ]
  },
  {
   "cell_type": "markdown",
   "metadata": {},
   "source": [
    "### load data for month of choice\n",
    "I created a loading file that directly loads the data files from the NYC TLC website. You can input month and year as either value types or string types. Here, we load only the `yellow` taxi data."
   ]
  },
  {
   "cell_type": "code",
   "execution_count": 3,
   "metadata": {},
   "outputs": [],
   "source": [
    "# load yellow taxi data for month 01/2023\n",
    "df1 = pr.load_taxi_data(month = 1, year = 2023, vehicle_type = 'yellow')\n",
    "df2 = pr.load_taxi_data(month = 2, year = 2023, vehicle_type = 'green')\n",
    "df3 = pr.load_taxi_data(month = 3, year = 2023, vehicle_type = 'fhv')\n",
    "df4 = pr.load_taxi_data(month = 4, year = 2023, vehicle_type = 'fhvhv')"
   ]
  },
  {
   "cell_type": "code",
   "execution_count": 4,
   "metadata": {},
   "outputs": [
    {
     "data": {
      "text/plain": [
       "(Index(['VendorID', 'tpep_pickup_datetime', 'tpep_dropoff_datetime',\n",
       "        'passenger_count', 'trip_distance', 'RatecodeID', 'store_and_fwd_flag',\n",
       "        'PULocationID', 'DOLocationID', 'payment_type', 'fare_amount', 'extra',\n",
       "        'mta_tax', 'tip_amount', 'tolls_amount', 'improvement_surcharge',\n",
       "        'total_amount', 'congestion_surcharge', 'airport_fee'],\n",
       "       dtype='object'),\n",
       " Index(['VendorID', 'lpep_pickup_datetime', 'lpep_dropoff_datetime',\n",
       "        'store_and_fwd_flag', 'RatecodeID', 'PULocationID', 'DOLocationID',\n",
       "        'passenger_count', 'trip_distance', 'fare_amount', 'extra', 'mta_tax',\n",
       "        'tip_amount', 'tolls_amount', 'ehail_fee', 'improvement_surcharge',\n",
       "        'total_amount', 'payment_type', 'trip_type', 'congestion_surcharge'],\n",
       "       dtype='object'),\n",
       " Index(['dispatching_base_num', 'pickup_datetime', 'dropOff_datetime',\n",
       "        'PUlocationID', 'DOlocationID', 'SR_Flag', 'Affiliated_base_number'],\n",
       "       dtype='object'),\n",
       " Index(['hvfhs_license_num', 'dispatching_base_num', 'originating_base_num',\n",
       "        'request_datetime', 'on_scene_datetime', 'pickup_datetime',\n",
       "        'dropoff_datetime', 'PULocationID', 'DOLocationID', 'trip_miles',\n",
       "        'trip_time', 'base_passenger_fare', 'tolls', 'bcf', 'sales_tax',\n",
       "        'congestion_surcharge', 'airport_fee', 'tips', 'driver_pay',\n",
       "        'shared_request_flag', 'shared_match_flag', 'access_a_ride_flag',\n",
       "        'wav_request_flag', 'wav_match_flag'],\n",
       "       dtype='object'))"
      ]
     },
     "execution_count": 4,
     "metadata": {},
     "output_type": "execute_result"
    }
   ],
   "source": [
    "df1.columns, df2.columns, df3.columns, df4.columns"
   ]
  },
  {
   "cell_type": "markdown",
   "metadata": {},
   "source": [
    "### binning the data\n",
    "Each time step in our time series will correspond to quantities from the previous hour. E.g., we will define $y_t$ to be the number of rides occurring in a given taxi zone from time $y_{t-1}$ to $y_{t}$, where $t$ is measured in hours."
   ]
  },
  {
   "cell_type": "markdown",
   "metadata": {},
   "source": []
  }
 ],
 "metadata": {
  "kernelspec": {
   "display_name": "dlwpt",
   "language": "python",
   "name": "python3"
  },
  "language_info": {
   "codemirror_mode": {
    "name": "ipython",
    "version": 3
   },
   "file_extension": ".py",
   "mimetype": "text/x-python",
   "name": "python",
   "nbconvert_exporter": "python",
   "pygments_lexer": "ipython3",
   "version": "3.12.3"
  }
 },
 "nbformat": 4,
 "nbformat_minor": 2
}
