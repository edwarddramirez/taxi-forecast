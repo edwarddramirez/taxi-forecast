{
 "cells": [
  {
   "cell_type": "code",
   "execution_count": 1,
   "metadata": {},
   "outputs": [],
   "source": [
    "import numpy as np\n",
    "import pandas as pd"
   ]
  },
  {
   "cell_type": "code",
   "execution_count": 17,
   "metadata": {},
   "outputs": [],
   "source": [
    "# Sample data\n",
    "data = {\n",
    "    'pickup_datetime': ['2024-01-01 00:00:00'] * 3 + ['2024-01-01 01:00:00'] * 3,\n",
    "    'edge_indices': [0,1,2] * 2,\n",
    "    'counts': [10, 20, 30, 40, 50, 60],\n",
    "    'total_amount': [100, 200, 300, 400, 500, 600],\n",
    "    'tip_amount': [10, 20, 30, 40, 50, 60],\n",
    "    'fare_amount': [10, 20, 30, 40, 50, 60],\n",
    "    'trip_distance': [10, 15, 20, 25, 30, 35],\n",
    "    'passenger_count': [2, 3, 4, 5, 6, 7],\n",
    "    'trip_duration': [30, 45, 60, 75, 90, 105],\n",
    "}\n",
    "\n",
    "ts = pd.DataFrame(data)"
   ]
  },
  {
   "cell_type": "code",
   "execution_count": 56,
   "metadata": {},
   "outputs": [
    {
     "data": {
      "text/plain": [
       "(2, 21)"
      ]
     },
     "execution_count": 56,
     "metadata": {},
     "output_type": "execute_result"
    }
   ],
   "source": [
    "# create the numpy version of dataframe by pivoting dataframe\n",
    "output_columns = ['counts', 'total_amount', 'tip_amount', 'fare_amount', 'trip_distance', 'passenger_count', 'trip_duration']\n",
    "pivoted_ts = ts.pivot_table(index='pickup_datetime', columns='edge_indices', values=output_columns, aggfunc='first', sort = False)\n",
    "\n",
    "# Convert to a NumPy array\n",
    "edge_features = pivoted_ts.to_numpy()\n",
    "edge_features.shape"
   ]
  },
  {
   "cell_type": "code",
   "execution_count": 57,
   "metadata": {},
   "outputs": [
    {
     "data": {
      "text/html": [
       "<div>\n",
       "<style scoped>\n",
       "    .dataframe tbody tr th:only-of-type {\n",
       "        vertical-align: middle;\n",
       "    }\n",
       "\n",
       "    .dataframe tbody tr th {\n",
       "        vertical-align: top;\n",
       "    }\n",
       "\n",
       "    .dataframe thead tr th {\n",
       "        text-align: left;\n",
       "    }\n",
       "\n",
       "    .dataframe thead tr:last-of-type th {\n",
       "        text-align: right;\n",
       "    }\n",
       "</style>\n",
       "<table border=\"1\" class=\"dataframe\">\n",
       "  <thead>\n",
       "    <tr>\n",
       "      <th></th>\n",
       "      <th colspan=\"3\" halign=\"left\">counts</th>\n",
       "      <th colspan=\"3\" halign=\"left\">total_amount</th>\n",
       "      <th colspan=\"3\" halign=\"left\">tip_amount</th>\n",
       "      <th colspan=\"3\" halign=\"left\">fare_amount</th>\n",
       "      <th colspan=\"3\" halign=\"left\">trip_distance</th>\n",
       "      <th colspan=\"3\" halign=\"left\">passenger_count</th>\n",
       "      <th colspan=\"3\" halign=\"left\">trip_duration</th>\n",
       "    </tr>\n",
       "    <tr>\n",
       "      <th>edge_indices</th>\n",
       "      <th>0</th>\n",
       "      <th>1</th>\n",
       "      <th>2</th>\n",
       "      <th>0</th>\n",
       "      <th>1</th>\n",
       "      <th>2</th>\n",
       "      <th>0</th>\n",
       "      <th>1</th>\n",
       "      <th>2</th>\n",
       "      <th>0</th>\n",
       "      <th>...</th>\n",
       "      <th>2</th>\n",
       "      <th>0</th>\n",
       "      <th>1</th>\n",
       "      <th>2</th>\n",
       "      <th>0</th>\n",
       "      <th>1</th>\n",
       "      <th>2</th>\n",
       "      <th>0</th>\n",
       "      <th>1</th>\n",
       "      <th>2</th>\n",
       "    </tr>\n",
       "    <tr>\n",
       "      <th>pickup_datetime</th>\n",
       "      <th></th>\n",
       "      <th></th>\n",
       "      <th></th>\n",
       "      <th></th>\n",
       "      <th></th>\n",
       "      <th></th>\n",
       "      <th></th>\n",
       "      <th></th>\n",
       "      <th></th>\n",
       "      <th></th>\n",
       "      <th></th>\n",
       "      <th></th>\n",
       "      <th></th>\n",
       "      <th></th>\n",
       "      <th></th>\n",
       "      <th></th>\n",
       "      <th></th>\n",
       "      <th></th>\n",
       "      <th></th>\n",
       "      <th></th>\n",
       "      <th></th>\n",
       "    </tr>\n",
       "  </thead>\n",
       "  <tbody>\n",
       "    <tr>\n",
       "      <th>2024-01-01 00:00:00</th>\n",
       "      <td>10</td>\n",
       "      <td>20</td>\n",
       "      <td>30</td>\n",
       "      <td>100</td>\n",
       "      <td>200</td>\n",
       "      <td>300</td>\n",
       "      <td>10</td>\n",
       "      <td>20</td>\n",
       "      <td>30</td>\n",
       "      <td>10</td>\n",
       "      <td>...</td>\n",
       "      <td>30</td>\n",
       "      <td>10</td>\n",
       "      <td>15</td>\n",
       "      <td>20</td>\n",
       "      <td>2</td>\n",
       "      <td>3</td>\n",
       "      <td>4</td>\n",
       "      <td>30</td>\n",
       "      <td>45</td>\n",
       "      <td>60</td>\n",
       "    </tr>\n",
       "    <tr>\n",
       "      <th>2024-01-01 01:00:00</th>\n",
       "      <td>40</td>\n",
       "      <td>50</td>\n",
       "      <td>60</td>\n",
       "      <td>400</td>\n",
       "      <td>500</td>\n",
       "      <td>600</td>\n",
       "      <td>40</td>\n",
       "      <td>50</td>\n",
       "      <td>60</td>\n",
       "      <td>40</td>\n",
       "      <td>...</td>\n",
       "      <td>60</td>\n",
       "      <td>25</td>\n",
       "      <td>30</td>\n",
       "      <td>35</td>\n",
       "      <td>5</td>\n",
       "      <td>6</td>\n",
       "      <td>7</td>\n",
       "      <td>75</td>\n",
       "      <td>90</td>\n",
       "      <td>105</td>\n",
       "    </tr>\n",
       "  </tbody>\n",
       "</table>\n",
       "<p>2 rows × 21 columns</p>\n",
       "</div>"
      ],
      "text/plain": [
       "                    counts         total_amount           tip_amount          \\\n",
       "edge_indices             0   1   2            0    1    2          0   1   2   \n",
       "pickup_datetime                                                                \n",
       "2024-01-01 00:00:00     10  20  30          100  200  300         10  20  30   \n",
       "2024-01-01 01:00:00     40  50  60          400  500  600         40  50  60   \n",
       "\n",
       "                    fare_amount  ...     trip_distance          \\\n",
       "edge_indices                  0  ...   2             0   1   2   \n",
       "pickup_datetime                  ...                             \n",
       "2024-01-01 00:00:00          10  ...  30            10  15  20   \n",
       "2024-01-01 01:00:00          40  ...  60            25  30  35   \n",
       "\n",
       "                    passenger_count       trip_duration           \n",
       "edge_indices                      0  1  2             0   1    2  \n",
       "pickup_datetime                                                   \n",
       "2024-01-01 00:00:00               2  3  4            30  45   60  \n",
       "2024-01-01 01:00:00               5  6  7            75  90  105  \n",
       "\n",
       "[2 rows x 21 columns]"
      ]
     },
     "execution_count": 57,
     "metadata": {},
     "output_type": "execute_result"
    }
   ],
   "source": [
    "pivoted_ts"
   ]
  },
  {
   "cell_type": "code",
   "execution_count": 58,
   "metadata": {},
   "outputs": [
    {
     "data": {
      "text/plain": [
       "(2, 3, 7)"
      ]
     },
     "execution_count": 58,
     "metadata": {},
     "output_type": "execute_result"
    }
   ],
   "source": [
    "# Reshape the array to the desired shape\n",
    "num_times = len(ts['pickup_datetime'].unique())\n",
    "num_edges = len(ts['edge_indices'].unique())\n",
    "num_outputs = len(output_columns)\n",
    "\n",
    "edge_features_r = edge_features.reshape((num_times, num_edges, num_outputs))\n",
    "edge_features_r.shape"
   ]
  },
  {
   "cell_type": "code",
   "execution_count": 59,
   "metadata": {},
   "outputs": [
    {
     "data": {
      "text/plain": [
       "array([ 10,  20,  30, 100, 200, 300,  10,  20,  30,  10,  20,  30,  10,\n",
       "        15,  20,   2,   3,   4,  30,  45,  60])"
      ]
     },
     "execution_count": 59,
     "metadata": {},
     "output_type": "execute_result"
    }
   ],
   "source": [
    "edge_features[0]"
   ]
  },
  {
   "cell_type": "code",
   "execution_count": 60,
   "metadata": {},
   "outputs": [
    {
     "data": {
      "text/plain": [
       "array([[ 10,  20,  30, 100, 200, 300,  10],\n",
       "       [ 20,  30,  10,  20,  30,  10,  15],\n",
       "       [ 20,   2,   3,   4,  30,  45,  60]])"
      ]
     },
     "execution_count": 60,
     "metadata": {},
     "output_type": "execute_result"
    }
   ],
   "source": [
    "edge_features_r[0,:]"
   ]
  },
  {
   "cell_type": "code",
   "execution_count": 61,
   "metadata": {},
   "outputs": [],
   "source": [
    "# notice, we would have gotten the right result if the ith row was made up of the\n",
    "# the elements (i, i+3, ... ) of the original edge_features array for each time step\n",
    "\n",
    "# we do this by creating the appropriate index array, apply it to each time step, then reshape as before"
   ]
  },
  {
   "cell_type": "code",
   "execution_count": 63,
   "metadata": {},
   "outputs": [
    {
     "data": {
      "text/plain": [
       "array([ 0,  3,  6,  9, 12, 15, 18,  1,  4,  7, 10, 13, 16, 19,  2,  5,  8,\n",
       "       11, 14, 17, 20])"
      ]
     },
     "execution_count": 63,
     "metadata": {},
     "output_type": "execute_result"
    }
   ],
   "source": [
    "idx = np.arange(0, num_outputs*num_edges).reshape((num_outputs, num_edges))\n",
    "idx.T.flatten()"
   ]
  },
  {
   "cell_type": "code",
   "execution_count": 64,
   "metadata": {},
   "outputs": [
    {
     "data": {
      "text/plain": [
       "array([[[ 10, 100,  10,  10,  10,   2,  30],\n",
       "        [ 20, 200,  20,  20,  15,   3,  45],\n",
       "        [ 30, 300,  30,  30,  20,   4,  60]],\n",
       "\n",
       "       [[ 40, 400,  40,  40,  25,   5,  75],\n",
       "        [ 50, 500,  50,  50,  30,   6,  90],\n",
       "        [ 60, 600,  60,  60,  35,   7, 105]]])"
      ]
     },
     "execution_count": 64,
     "metadata": {},
     "output_type": "execute_result"
    }
   ],
   "source": [
    "edge_features[:, idx.T.flatten()].reshape((num_times, num_edges, num_outputs))"
   ]
  },
  {
   "cell_type": "code",
   "execution_count": 65,
   "metadata": {},
   "outputs": [
    {
     "data": {
      "text/html": [
       "<div>\n",
       "<style scoped>\n",
       "    .dataframe tbody tr th:only-of-type {\n",
       "        vertical-align: middle;\n",
       "    }\n",
       "\n",
       "    .dataframe tbody tr th {\n",
       "        vertical-align: top;\n",
       "    }\n",
       "\n",
       "    .dataframe thead th {\n",
       "        text-align: right;\n",
       "    }\n",
       "</style>\n",
       "<table border=\"1\" class=\"dataframe\">\n",
       "  <thead>\n",
       "    <tr style=\"text-align: right;\">\n",
       "      <th></th>\n",
       "      <th>pickup_datetime</th>\n",
       "      <th>edge_indices</th>\n",
       "      <th>counts</th>\n",
       "      <th>total_amount</th>\n",
       "      <th>tip_amount</th>\n",
       "      <th>fare_amount</th>\n",
       "      <th>trip_distance</th>\n",
       "      <th>passenger_count</th>\n",
       "      <th>trip_duration</th>\n",
       "    </tr>\n",
       "  </thead>\n",
       "  <tbody>\n",
       "    <tr>\n",
       "      <th>0</th>\n",
       "      <td>2024-01-01 00:00:00</td>\n",
       "      <td>0</td>\n",
       "      <td>10</td>\n",
       "      <td>100</td>\n",
       "      <td>10</td>\n",
       "      <td>10</td>\n",
       "      <td>10</td>\n",
       "      <td>2</td>\n",
       "      <td>30</td>\n",
       "    </tr>\n",
       "    <tr>\n",
       "      <th>3</th>\n",
       "      <td>2024-01-01 01:00:00</td>\n",
       "      <td>0</td>\n",
       "      <td>40</td>\n",
       "      <td>400</td>\n",
       "      <td>40</td>\n",
       "      <td>40</td>\n",
       "      <td>25</td>\n",
       "      <td>5</td>\n",
       "      <td>75</td>\n",
       "    </tr>\n",
       "    <tr>\n",
       "      <th>1</th>\n",
       "      <td>2024-01-01 00:00:00</td>\n",
       "      <td>1</td>\n",
       "      <td>20</td>\n",
       "      <td>200</td>\n",
       "      <td>20</td>\n",
       "      <td>20</td>\n",
       "      <td>15</td>\n",
       "      <td>3</td>\n",
       "      <td>45</td>\n",
       "    </tr>\n",
       "    <tr>\n",
       "      <th>4</th>\n",
       "      <td>2024-01-01 01:00:00</td>\n",
       "      <td>1</td>\n",
       "      <td>50</td>\n",
       "      <td>500</td>\n",
       "      <td>50</td>\n",
       "      <td>50</td>\n",
       "      <td>30</td>\n",
       "      <td>6</td>\n",
       "      <td>90</td>\n",
       "    </tr>\n",
       "    <tr>\n",
       "      <th>2</th>\n",
       "      <td>2024-01-01 00:00:00</td>\n",
       "      <td>2</td>\n",
       "      <td>30</td>\n",
       "      <td>300</td>\n",
       "      <td>30</td>\n",
       "      <td>30</td>\n",
       "      <td>20</td>\n",
       "      <td>4</td>\n",
       "      <td>60</td>\n",
       "    </tr>\n",
       "    <tr>\n",
       "      <th>5</th>\n",
       "      <td>2024-01-01 01:00:00</td>\n",
       "      <td>2</td>\n",
       "      <td>60</td>\n",
       "      <td>600</td>\n",
       "      <td>60</td>\n",
       "      <td>60</td>\n",
       "      <td>35</td>\n",
       "      <td>7</td>\n",
       "      <td>105</td>\n",
       "    </tr>\n",
       "  </tbody>\n",
       "</table>\n",
       "</div>"
      ],
      "text/plain": [
       "       pickup_datetime  edge_indices  counts  total_amount  tip_amount  \\\n",
       "0  2024-01-01 00:00:00             0      10           100          10   \n",
       "3  2024-01-01 01:00:00             0      40           400          40   \n",
       "1  2024-01-01 00:00:00             1      20           200          20   \n",
       "4  2024-01-01 01:00:00             1      50           500          50   \n",
       "2  2024-01-01 00:00:00             2      30           300          30   \n",
       "5  2024-01-01 01:00:00             2      60           600          60   \n",
       "\n",
       "   fare_amount  trip_distance  passenger_count  trip_duration  \n",
       "0           10             10                2             30  \n",
       "3           40             25                5             75  \n",
       "1           20             15                3             45  \n",
       "4           50             30                6             90  \n",
       "2           30             20                4             60  \n",
       "5           60             35                7            105  "
      ]
     },
     "execution_count": 65,
     "metadata": {},
     "output_type": "execute_result"
    }
   ],
   "source": [
    "ts.sort_values('edge_indices')"
   ]
  },
  {
   "cell_type": "code",
   "execution_count": null,
   "metadata": {},
   "outputs": [],
   "source": []
  }
 ],
 "metadata": {
  "kernelspec": {
   "display_name": "taxi-forecast",
   "language": "python",
   "name": "python3"
  },
  "language_info": {
   "codemirror_mode": {
    "name": "ipython",
    "version": 3
   },
   "file_extension": ".py",
   "mimetype": "text/x-python",
   "name": "python",
   "nbconvert_exporter": "python",
   "pygments_lexer": "ipython3",
   "version": "3.12.3"
  }
 },
 "nbformat": 4,
 "nbformat_minor": 2
}
